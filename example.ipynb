{
 "cells": [
  {
   "cell_type": "code",
   "execution_count": 1,
   "metadata": {},
   "outputs": [],
   "source": [
    "import numpy as np\n",
    "import torch as t\n",
    "import gymnasium as gym\n",
    "\n",
    "from stable_baselines3 import DQN, PPO\n",
    "from stable_baselines3.common.evaluation import evaluate_policy\n",
    "from stable_baselines3.common.callbacks import EvalCallback, StopTrainingOnNoModelImprovement, CheckpointCallback\n",
    "from stable_baselines3.common.env_checker import check_env\n"
   ]
  },
  {
   "cell_type": "code",
   "execution_count": 2,
   "metadata": {},
   "outputs": [],
   "source": [
    "\n",
    "class SimpleGridEnv(gym.Env):\n",
    "\n",
    "    def __init__(self, grid_size=10, target_pos=5):\n",
    "        super(SimpleGridEnv, self).__init__()\n",
    "\n",
    "        self.grid_size = grid_size\n",
    "        self.target_pos = target_pos\n",
    "        self.current_pos = None\n",
    "\n",
    "        # Action space: 0 for left, 1 for right\n",
    "        self.action_space = gym.spaces.Discrete(2)\n",
    "\n",
    "        # Observation space: current position on the grid\n",
    "        self.observation_space = gym.spaces.Box(low=0, high=grid_size, shape=(1,), dtype=np.float32)\n",
    "\n",
    "        # Reset the environment\n",
    "        self.reset()\n",
    "\n",
    "    def reset(self, seed=None):\n",
    "        # Initialize the agent at a random position on the grid\n",
    "        self.current_pos = np.random.randint(0, self.grid_size)\n",
    "        return np.array([self.current_pos], dtype=np.float32), {}\n",
    "\n",
    "    def step(self, action):\n",
    "        # Take the action (0 for left, 1 for right)\n",
    "        if action == 0:\n",
    "            self.current_pos = max(0, self.current_pos - 1)\n",
    "        elif action == 1:\n",
    "            self.current_pos = min(self.grid_size - 1, self.current_pos + 1)\n",
    "\n",
    "        # Reward: -1 for each step, +10 if the target position is reached\n",
    "        reward = -1 if self.current_pos != self.target_pos else 10\n",
    "\n",
    "        # Done: True if the agent reaches the target position\n",
    "        done = self.current_pos == self.target_pos\n",
    "\n",
    "        # Information: Additional information for debugging or learning purposes\n",
    "        info = {}\n",
    "\n",
    "        # Return the next observation, reward, done, and info\n",
    "        # obs, reward, terminated, truncated, info\n",
    "        return np.array([self.current_pos], dtype=np.float32), reward, False, done, info\n",
    "\n",
    "    def render(self, mode='human'):\n",
    "        # Print the current state (for human-readable output)\n",
    "        print(f\"Current Position: {self.current_pos}\")"
   ]
  },
  {
   "cell_type": "code",
   "execution_count": 3,
   "metadata": {},
   "outputs": [],
   "source": [
    "env = SimpleGridEnv(grid_size=10, target_pos=5)\n",
    "check_env(env)"
   ]
  },
  {
   "cell_type": "code",
   "execution_count": null,
   "metadata": {},
   "outputs": [],
   "source": []
  }
 ],
 "metadata": {
  "kernelspec": {
   "display_name": "venv",
   "language": "python",
   "name": "python3"
  },
  "language_info": {
   "codemirror_mode": {
    "name": "ipython",
    "version": 3
   },
   "file_extension": ".py",
   "mimetype": "text/x-python",
   "name": "python",
   "nbconvert_exporter": "python",
   "pygments_lexer": "ipython3",
   "version": "3.10.12"
  }
 },
 "nbformat": 4,
 "nbformat_minor": 2
}
